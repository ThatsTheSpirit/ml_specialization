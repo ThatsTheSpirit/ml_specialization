{
 "cells": [
  {
   "cell_type": "markdown",
   "metadata": {},
   "source": [
    "# Predicting phone prices"
   ]
  },
  {
   "cell_type": "markdown",
   "metadata": {},
   "source": [
    "I'll try to predict phone prices"
   ]
  },
  {
   "cell_type": "code",
   "execution_count": 1,
   "metadata": {
    "collapsed": true
   },
   "outputs": [],
   "source": [
    "import graphlab"
   ]
  },
  {
   "cell_type": "markdown",
   "metadata": {},
   "source": [
    "Load data"
   ]
  },
  {
   "cell_type": "code",
   "execution_count": 2,
   "metadata": {
    "collapsed": false
   },
   "outputs": [
    {
     "name": "stdout",
     "output_type": "stream",
     "text": [
      "This non-commercial license of GraphLab Create for academic use is assigned to 1999bag@gmail.com and will expire on August 10, 2020.\n"
     ]
    },
    {
     "name": "stderr",
     "output_type": "stream",
     "text": [
      "[INFO] graphlab.cython.cy_server: GraphLab Create v2.1 started. Logging: C:\\Users\\Admin\\AppData\\Local\\Temp\\graphlab_server_1565957173.log.0\n"
     ]
    },
    {
     "data": {
      "text/html": [
       "<pre>Finished parsing file C:\\Users\\Admin\\Documents\\Coursera\\Course 1(ml-foundations)\\MyRegModel\\small_dataset.csv</pre>"
      ],
      "text/plain": [
       "Finished parsing file C:\\Users\\Admin\\Documents\\Coursera\\Course 1(ml-foundations)\\MyRegModel\\small_dataset.csv"
      ]
     },
     "metadata": {},
     "output_type": "display_data"
    },
    {
     "data": {
      "text/html": [
       "<pre>Parsing completed. Parsed 16 lines in 0.029002 secs.</pre>"
      ],
      "text/plain": [
       "Parsing completed. Parsed 16 lines in 0.029002 secs."
      ]
     },
     "metadata": {},
     "output_type": "display_data"
    },
    {
     "name": "stdout",
     "output_type": "stream",
     "text": [
      "------------------------------------------------------\n",
      "Inferred types from first 100 line(s) of file as \n",
      "column_type_hints=[str,str,long,str,str,str,str,float,str,str]\n",
      "If parsing fails due to incorrect types, you can correct\n",
      "the inferred type list above and pass it to read_csv in\n",
      "the column_type_hints argument\n",
      "------------------------------------------------------\n"
     ]
    },
    {
     "data": {
      "text/html": [
       "<pre>Finished parsing file C:\\Users\\Admin\\Documents\\Coursera\\Course 1(ml-foundations)\\MyRegModel\\small_dataset.csv</pre>"
      ],
      "text/plain": [
       "Finished parsing file C:\\Users\\Admin\\Documents\\Coursera\\Course 1(ml-foundations)\\MyRegModel\\small_dataset.csv"
      ]
     },
     "metadata": {},
     "output_type": "display_data"
    },
    {
     "data": {
      "text/html": [
       "<pre>Parsing completed. Parsed 16 lines in 0.031002 secs.</pre>"
      ],
      "text/plain": [
       "Parsing completed. Parsed 16 lines in 0.031002 secs."
      ]
     },
     "metadata": {},
     "output_type": "display_data"
    }
   ],
   "source": [
    "data = graphlab.SFrame('small_dataset.csv')"
   ]
  },
  {
   "cell_type": "code",
   "execution_count": 3,
   "metadata": {
    "collapsed": false
   },
   "outputs": [
    {
     "data": {
      "text/html": [
       "<div style=\"max-height:1000px;max-width:1500px;overflow:auto;\"><table frame=\"box\" rules=\"cols\">\n",
       "    <tr>\n",
       "        <th style=\"padding-left: 1em; padding-right: 1em; text-align: center\">Time</th>\n",
       "        <th style=\"padding-left: 1em; padding-right: 1em; text-align: center\">Brand</th>\n",
       "        <th style=\"padding-left: 1em; padding-right: 1em; text-align: center\">Price</th>\n",
       "        <th style=\"padding-left: 1em; padding-right: 1em; text-align: center\">Wi-Fi</th>\n",
       "        <th style=\"padding-left: 1em; padding-right: 1em; text-align: center\">Bluetooth</th>\n",
       "        <th style=\"padding-left: 1em; padding-right: 1em; text-align: center\">NFC</th>\n",
       "        <th style=\"padding-left: 1em; padding-right: 1em; text-align: center\">System</th>\n",
       "        <th style=\"padding-left: 1em; padding-right: 1em; text-align: center\">RAM</th>\n",
       "        <th style=\"padding-left: 1em; padding-right: 1em; text-align: center\">Name</th>\n",
       "        <th style=\"padding-left: 1em; padding-right: 1em; text-align: center\">Sex</th>\n",
       "    </tr>\n",
       "    <tr>\n",
       "        <td style=\"padding-left: 1em; padding-right: 1em; text-align: center; vertical-align: top\">15.08.2019 20:06:36</td>\n",
       "        <td style=\"padding-left: 1em; padding-right: 1em; text-align: center; vertical-align: top\">Doogee</td>\n",
       "        <td style=\"padding-left: 1em; padding-right: 1em; text-align: center; vertical-align: top\">5000</td>\n",
       "        <td style=\"padding-left: 1em; padding-right: 1em; text-align: center; vertical-align: top\">Yes</td>\n",
       "        <td style=\"padding-left: 1em; padding-right: 1em; text-align: center; vertical-align: top\">Yes</td>\n",
       "        <td style=\"padding-left: 1em; padding-right: 1em; text-align: center; vertical-align: top\">No</td>\n",
       "        <td style=\"padding-left: 1em; padding-right: 1em; text-align: center; vertical-align: top\">Android</td>\n",
       "        <td style=\"padding-left: 1em; padding-right: 1em; text-align: center; vertical-align: top\">1.0</td>\n",
       "        <td style=\"padding-left: 1em; padding-right: 1em; text-align: center; vertical-align: top\">Алексей</td>\n",
       "        <td style=\"padding-left: 1em; padding-right: 1em; text-align: center; vertical-align: top\">M</td>\n",
       "    </tr>\n",
       "    <tr>\n",
       "        <td style=\"padding-left: 1em; padding-right: 1em; text-align: center; vertical-align: top\">15.08.2019 20:09:36</td>\n",
       "        <td style=\"padding-left: 1em; padding-right: 1em; text-align: center; vertical-align: top\">Asus</td>\n",
       "        <td style=\"padding-left: 1em; padding-right: 1em; text-align: center; vertical-align: top\">15000</td>\n",
       "        <td style=\"padding-left: 1em; padding-right: 1em; text-align: center; vertical-align: top\">Yes</td>\n",
       "        <td style=\"padding-left: 1em; padding-right: 1em; text-align: center; vertical-align: top\">Yes</td>\n",
       "        <td style=\"padding-left: 1em; padding-right: 1em; text-align: center; vertical-align: top\">Yes</td>\n",
       "        <td style=\"padding-left: 1em; padding-right: 1em; text-align: center; vertical-align: top\">Android</td>\n",
       "        <td style=\"padding-left: 1em; padding-right: 1em; text-align: center; vertical-align: top\">4.0</td>\n",
       "        <td style=\"padding-left: 1em; padding-right: 1em; text-align: center; vertical-align: top\">Никита</td>\n",
       "        <td style=\"padding-left: 1em; padding-right: 1em; text-align: center; vertical-align: top\">M</td>\n",
       "    </tr>\n",
       "    <tr>\n",
       "        <td style=\"padding-left: 1em; padding-right: 1em; text-align: center; vertical-align: top\">15.08.2019 20:14:36</td>\n",
       "        <td style=\"padding-left: 1em; padding-right: 1em; text-align: center; vertical-align: top\">Xiaomi</td>\n",
       "        <td style=\"padding-left: 1em; padding-right: 1em; text-align: center; vertical-align: top\">12000</td>\n",
       "        <td style=\"padding-left: 1em; padding-right: 1em; text-align: center; vertical-align: top\">Yes</td>\n",
       "        <td style=\"padding-left: 1em; padding-right: 1em; text-align: center; vertical-align: top\">Yes</td>\n",
       "        <td style=\"padding-left: 1em; padding-right: 1em; text-align: center; vertical-align: top\">No</td>\n",
       "        <td style=\"padding-left: 1em; padding-right: 1em; text-align: center; vertical-align: top\">Android</td>\n",
       "        <td style=\"padding-left: 1em; padding-right: 1em; text-align: center; vertical-align: top\">8.0</td>\n",
       "        <td style=\"padding-left: 1em; padding-right: 1em; text-align: center; vertical-align: top\">Артем</td>\n",
       "        <td style=\"padding-left: 1em; padding-right: 1em; text-align: center; vertical-align: top\">M</td>\n",
       "    </tr>\n",
       "    <tr>\n",
       "        <td style=\"padding-left: 1em; padding-right: 1em; text-align: center; vertical-align: top\">15.08.2019 20:17:45</td>\n",
       "        <td style=\"padding-left: 1em; padding-right: 1em; text-align: center; vertical-align: top\">Xiaomi</td>\n",
       "        <td style=\"padding-left: 1em; padding-right: 1em; text-align: center; vertical-align: top\">13000</td>\n",
       "        <td style=\"padding-left: 1em; padding-right: 1em; text-align: center; vertical-align: top\">Yes</td>\n",
       "        <td style=\"padding-left: 1em; padding-right: 1em; text-align: center; vertical-align: top\">Yes</td>\n",
       "        <td style=\"padding-left: 1em; padding-right: 1em; text-align: center; vertical-align: top\">Yes</td>\n",
       "        <td style=\"padding-left: 1em; padding-right: 1em; text-align: center; vertical-align: top\">Android</td>\n",
       "        <td style=\"padding-left: 1em; padding-right: 1em; text-align: center; vertical-align: top\">4.0</td>\n",
       "        <td style=\"padding-left: 1em; padding-right: 1em; text-align: center; vertical-align: top\">Владислав</td>\n",
       "        <td style=\"padding-left: 1em; padding-right: 1em; text-align: center; vertical-align: top\">M</td>\n",
       "    </tr>\n",
       "    <tr>\n",
       "        <td style=\"padding-left: 1em; padding-right: 1em; text-align: center; vertical-align: top\">15.08.2019 20:34:05</td>\n",
       "        <td style=\"padding-left: 1em; padding-right: 1em; text-align: center; vertical-align: top\">Xiaomi</td>\n",
       "        <td style=\"padding-left: 1em; padding-right: 1em; text-align: center; vertical-align: top\">8000</td>\n",
       "        <td style=\"padding-left: 1em; padding-right: 1em; text-align: center; vertical-align: top\">Yes</td>\n",
       "        <td style=\"padding-left: 1em; padding-right: 1em; text-align: center; vertical-align: top\">Yes</td>\n",
       "        <td style=\"padding-left: 1em; padding-right: 1em; text-align: center; vertical-align: top\">No</td>\n",
       "        <td style=\"padding-left: 1em; padding-right: 1em; text-align: center; vertical-align: top\">Android</td>\n",
       "        <td style=\"padding-left: 1em; padding-right: 1em; text-align: center; vertical-align: top\">2.0</td>\n",
       "        <td style=\"padding-left: 1em; padding-right: 1em; text-align: center; vertical-align: top\">Дмитрий</td>\n",
       "        <td style=\"padding-left: 1em; padding-right: 1em; text-align: center; vertical-align: top\">M</td>\n",
       "    </tr>\n",
       "    <tr>\n",
       "        <td style=\"padding-left: 1em; padding-right: 1em; text-align: center; vertical-align: top\">15.08.2019 20:34:08</td>\n",
       "        <td style=\"padding-left: 1em; padding-right: 1em; text-align: center; vertical-align: top\">Samsung</td>\n",
       "        <td style=\"padding-left: 1em; padding-right: 1em; text-align: center; vertical-align: top\">14000</td>\n",
       "        <td style=\"padding-left: 1em; padding-right: 1em; text-align: center; vertical-align: top\">Yes</td>\n",
       "        <td style=\"padding-left: 1em; padding-right: 1em; text-align: center; vertical-align: top\">Yes</td>\n",
       "        <td style=\"padding-left: 1em; padding-right: 1em; text-align: center; vertical-align: top\">Yes</td>\n",
       "        <td style=\"padding-left: 1em; padding-right: 1em; text-align: center; vertical-align: top\">Android</td>\n",
       "        <td style=\"padding-left: 1em; padding-right: 1em; text-align: center; vertical-align: top\">3.0</td>\n",
       "        <td style=\"padding-left: 1em; padding-right: 1em; text-align: center; vertical-align: top\">Михаил</td>\n",
       "        <td style=\"padding-left: 1em; padding-right: 1em; text-align: center; vertical-align: top\">M</td>\n",
       "    </tr>\n",
       "    <tr>\n",
       "        <td style=\"padding-left: 1em; padding-right: 1em; text-align: center; vertical-align: top\">15.08.2019 20:36:36</td>\n",
       "        <td style=\"padding-left: 1em; padding-right: 1em; text-align: center; vertical-align: top\">Honor</td>\n",
       "        <td style=\"padding-left: 1em; padding-right: 1em; text-align: center; vertical-align: top\">14000</td>\n",
       "        <td style=\"padding-left: 1em; padding-right: 1em; text-align: center; vertical-align: top\">Yes</td>\n",
       "        <td style=\"padding-left: 1em; padding-right: 1em; text-align: center; vertical-align: top\">Yes</td>\n",
       "        <td style=\"padding-left: 1em; padding-right: 1em; text-align: center; vertical-align: top\">No</td>\n",
       "        <td style=\"padding-left: 1em; padding-right: 1em; text-align: center; vertical-align: top\">Android</td>\n",
       "        <td style=\"padding-left: 1em; padding-right: 1em; text-align: center; vertical-align: top\">16.0</td>\n",
       "        <td style=\"padding-left: 1em; padding-right: 1em; text-align: center; vertical-align: top\">Ирина</td>\n",
       "        <td style=\"padding-left: 1em; padding-right: 1em; text-align: center; vertical-align: top\">F</td>\n",
       "    </tr>\n",
       "    <tr>\n",
       "        <td style=\"padding-left: 1em; padding-right: 1em; text-align: center; vertical-align: top\">15.08.2019 20:38:23</td>\n",
       "        <td style=\"padding-left: 1em; padding-right: 1em; text-align: center; vertical-align: top\">Iphone</td>\n",
       "        <td style=\"padding-left: 1em; padding-right: 1em; text-align: center; vertical-align: top\">37000</td>\n",
       "        <td style=\"padding-left: 1em; padding-right: 1em; text-align: center; vertical-align: top\">Yes</td>\n",
       "        <td style=\"padding-left: 1em; padding-right: 1em; text-align: center; vertical-align: top\">Yes</td>\n",
       "        <td style=\"padding-left: 1em; padding-right: 1em; text-align: center; vertical-align: top\">Yes</td>\n",
       "        <td style=\"padding-left: 1em; padding-right: 1em; text-align: center; vertical-align: top\">IOS</td>\n",
       "        <td style=\"padding-left: 1em; padding-right: 1em; text-align: center; vertical-align: top\">32.0</td>\n",
       "        <td style=\"padding-left: 1em; padding-right: 1em; text-align: center; vertical-align: top\">Александр</td>\n",
       "        <td style=\"padding-left: 1em; padding-right: 1em; text-align: center; vertical-align: top\">M</td>\n",
       "    </tr>\n",
       "    <tr>\n",
       "        <td style=\"padding-left: 1em; padding-right: 1em; text-align: center; vertical-align: top\">15.08.2019 20:40:25</td>\n",
       "        <td style=\"padding-left: 1em; padding-right: 1em; text-align: center; vertical-align: top\">Nokia</td>\n",
       "        <td style=\"padding-left: 1em; padding-right: 1em; text-align: center; vertical-align: top\">13000</td>\n",
       "        <td style=\"padding-left: 1em; padding-right: 1em; text-align: center; vertical-align: top\">Yes</td>\n",
       "        <td style=\"padding-left: 1em; padding-right: 1em; text-align: center; vertical-align: top\">Yes</td>\n",
       "        <td style=\"padding-left: 1em; padding-right: 1em; text-align: center; vertical-align: top\">Yes</td>\n",
       "        <td style=\"padding-left: 1em; padding-right: 1em; text-align: center; vertical-align: top\">Android</td>\n",
       "        <td style=\"padding-left: 1em; padding-right: 1em; text-align: center; vertical-align: top\">3.0</td>\n",
       "        <td style=\"padding-left: 1em; padding-right: 1em; text-align: center; vertical-align: top\">Анатолий</td>\n",
       "        <td style=\"padding-left: 1em; padding-right: 1em; text-align: center; vertical-align: top\">F</td>\n",
       "    </tr>\n",
       "    <tr>\n",
       "        <td style=\"padding-left: 1em; padding-right: 1em; text-align: center; vertical-align: top\">15.08.2019 20:55:35</td>\n",
       "        <td style=\"padding-left: 1em; padding-right: 1em; text-align: center; vertical-align: top\">Iphone</td>\n",
       "        <td style=\"padding-left: 1em; padding-right: 1em; text-align: center; vertical-align: top\">64000</td>\n",
       "        <td style=\"padding-left: 1em; padding-right: 1em; text-align: center; vertical-align: top\">Yes</td>\n",
       "        <td style=\"padding-left: 1em; padding-right: 1em; text-align: center; vertical-align: top\">Yes</td>\n",
       "        <td style=\"padding-left: 1em; padding-right: 1em; text-align: center; vertical-align: top\">Yes</td>\n",
       "        <td style=\"padding-left: 1em; padding-right: 1em; text-align: center; vertical-align: top\">IOS</td>\n",
       "        <td style=\"padding-left: 1em; padding-right: 1em; text-align: center; vertical-align: top\">3.0</td>\n",
       "        <td style=\"padding-left: 1em; padding-right: 1em; text-align: center; vertical-align: top\">Лиза</td>\n",
       "        <td style=\"padding-left: 1em; padding-right: 1em; text-align: center; vertical-align: top\">F</td>\n",
       "    </tr>\n",
       "</table>\n",
       "[16 rows x 10 columns]<br/>Note: Only the head of the SFrame is printed.<br/>You can use print_rows(num_rows=m, num_columns=n) to print more rows and columns.\n",
       "</div>"
      ],
      "text/plain": [
       "Columns:\n",
       "\tTime\tstr\n",
       "\tBrand\tstr\n",
       "\tPrice\tint\n",
       "\tWi-Fi\tstr\n",
       "\tBluetooth\tstr\n",
       "\tNFC\tstr\n",
       "\tSystem\tstr\n",
       "\tRAM\tfloat\n",
       "\tName\tstr\n",
       "\tSex\tstr\n",
       "\n",
       "Rows: 16\n",
       "\n",
       "Data:\n",
       "+---------------------+---------+-------+-------+-----------+-----+---------+\n",
       "|         Time        |  Brand  | Price | Wi-Fi | Bluetooth | NFC |  System |\n",
       "+---------------------+---------+-------+-------+-----------+-----+---------+\n",
       "| 15.08.2019 20:06:36 |  Doogee |  5000 |  Yes  |    Yes    |  No | Android |\n",
       "| 15.08.2019 20:09:36 |   Asus  | 15000 |  Yes  |    Yes    | Yes | Android |\n",
       "| 15.08.2019 20:14:36 |  Xiaomi | 12000 |  Yes  |    Yes    |  No | Android |\n",
       "| 15.08.2019 20:17:45 |  Xiaomi | 13000 |  Yes  |    Yes    | Yes | Android |\n",
       "| 15.08.2019 20:34:05 |  Xiaomi |  8000 |  Yes  |    Yes    |  No | Android |\n",
       "| 15.08.2019 20:34:08 | Samsung | 14000 |  Yes  |    Yes    | Yes | Android |\n",
       "| 15.08.2019 20:36:36 |  Honor  | 14000 |  Yes  |    Yes    |  No | Android |\n",
       "| 15.08.2019 20:38:23 |  Iphone | 37000 |  Yes  |    Yes    | Yes |   IOS   |\n",
       "| 15.08.2019 20:40:25 |  Nokia  | 13000 |  Yes  |    Yes    | Yes | Android |\n",
       "| 15.08.2019 20:55:35 |  Iphone | 64000 |  Yes  |    Yes    | Yes |   IOS   |\n",
       "+---------------------+---------+-------+-------+-----------+-----+---------+\n",
       "+------+-----------+-----+\n",
       "| RAM  |    Name   | Sex |\n",
       "+------+-----------+-----+\n",
       "| 1.0  |  Алексей  |  M  |\n",
       "| 4.0  |   Никита  |  M  |\n",
       "| 8.0  |   Артем   |  M  |\n",
       "| 4.0  | Владислав |  M  |\n",
       "| 2.0  |  Дмитрий  |  M  |\n",
       "| 3.0  |   Михаил  |  M  |\n",
       "| 16.0 |   Ирина   |  F  |\n",
       "| 32.0 | Александр |  M  |\n",
       "| 3.0  |  Анатолий |  F  |\n",
       "| 3.0  |    Лиза   |  F  |\n",
       "+------+-----------+-----+\n",
       "[16 rows x 10 columns]\n",
       "Note: Only the head of the SFrame is printed.\n",
       "You can use print_rows(num_rows=m, num_columns=n) to print more rows and columns."
      ]
     },
     "execution_count": 3,
     "metadata": {},
     "output_type": "execute_result"
    }
   ],
   "source": [
    "data"
   ]
  },
  {
   "cell_type": "code",
   "execution_count": 22,
   "metadata": {
    "collapsed": false
   },
   "outputs": [
    {
     "data": {
      "application/javascript": [
       "$(\"head\").append($(\"<link/>\").attr({\n",
       "  rel:  \"stylesheet\",\n",
       "  type: \"text/css\",\n",
       "  href: \"//cdnjs.cloudflare.com/ajax/libs/font-awesome/4.1.0/css/font-awesome.min.css\"\n",
       "}));\n",
       "$(\"head\").append($(\"<link/>\").attr({\n",
       "  rel:  \"stylesheet\",\n",
       "  type: \"text/css\",\n",
       "  href: \"https://static.turi.com/products/graphlab-create/2.1/canvas/css/canvas.css\"\n",
       "}));\n",
       "\n",
       "            (function(){\n",
       "\n",
       "                var e = null;\n",
       "                if (typeof element == 'undefined') {\n",
       "                    var scripts = document.getElementsByTagName('script');\n",
       "                    var thisScriptTag = scripts[scripts.length-1];\n",
       "                    var parentDiv = thisScriptTag.parentNode;\n",
       "                    e = document.createElement('div');\n",
       "                    parentDiv.appendChild(e);\n",
       "                } else {\n",
       "                    e = element[0];\n",
       "                }\n",
       "\n",
       "                if (typeof requirejs !== 'undefined') {\n",
       "                    // disable load timeout; ipython_app.js is large and can take a while to load.\n",
       "                    requirejs.config({waitSeconds: 0});\n",
       "                }\n",
       "\n",
       "                require(['https://static.turi.com/products/graphlab-create/2.1/canvas/js/ipython_app.js'], function(IPythonApp){\n",
       "                    var app = new IPythonApp();\n",
       "                    app.attachView('sframe','Summary', {\"ipython\": true, \"sketch\": {\"Wi-Fi\": {\"complete\": true, \"numeric\": false, \"num_unique\": 1, \"num_undefined\": 0, \"progress\": 1.0, \"frequent_items\": {\"Yes\": {\"frequency\": 16, \"value\": \"Yes\"}}, \"size\": 16}, \"NFC\": {\"complete\": true, \"numeric\": false, \"num_unique\": 2, \"num_undefined\": 0, \"progress\": 1.0, \"frequent_items\": {\"Yes\": {\"frequency\": 11, \"value\": \"Yes\"}, \"No\": {\"frequency\": 5, \"value\": \"No\"}}, \"size\": 16}, \"Name\": {\"complete\": true, \"numeric\": false, \"num_unique\": 14, \"num_undefined\": 0, \"progress\": 1.0, \"frequent_items\": {\"\\ufffd\\ufffd\\ufffd\\ufffd\\ufffd\\ufffd\\ufffd\\ufffd\\ufffd\\ufffd\\ufffd\\ufffd\\ufffd\\ufffd\\ufffd\\ufffd\": {\"frequency\": 1, \"value\": \"\\u0410\\u043d\\u0430\\u0442\\u043e\\u043b\\u0438\\u0439\"}, \"\\ufffd\\ufffd\\ufffd\\ufffd\\ufffd\\ufffd\\ufffd\\ufffd\\ufffd\\ufffd\\ufffd\\ufffd\": {\"frequency\": 1, \"value\": \"\\u0423\\u043b\\u044c\\u044f\\u043d\\u0430\"}, \"\\ufffd\\ufffd\\ufffd\\ufffd\\ufffd\\ufffd\\ufffd\\ufffd\\ufffd\\ufffd\\ufffd\\ufffd\\ufffd\\ufffd\\ufffd\\ufffd\\ufffd\\ufffd\": {\"frequency\": 2, \"value\": \"\\u0410\\u043b\\u0435\\u043a\\u0441\\u0430\\u043d\\u0434\\u0440\"}, \"\\ufffd\\ufffd\\ufffd\\ufffd\\ufffd\\ufffd\\ufffd\\ufffd\": {\"frequency\": 1, \"value\": \"\\u041b\\u0438\\u0437\\u0430\"}, \"\\ufffd\\ufffd\\ufffd\\ufffd\": {\"frequency\": 1, \"value\": \"\\u0410\\u043b\"}, \"\\ufffd\\ufffd\\ufffd\\ufffd\\ufffd\\ufffd\\ufffd\\ufffd\\ufffd\\ufffd\\ufffd\\ufffd\\ufffd\\ufffd\": {\"frequency\": 1, \"value\": \"\\u0410\\u043b\\u0435\\u043a\\u0441\\u0435\\u0439\"}, \"\\ufffd\\ufffd\\ufffd\\ufffd\\ufffd\\ufffd\\ufffd\\ufffd\\ufffd\\ufffd\": {\"frequency\": 1, \"value\": \"\\u0418\\u0440\\u0438\\u043d\\u0430\"}}, \"size\": 16}, \"Brand\": {\"complete\": true, \"numeric\": false, \"num_unique\": 8, \"num_undefined\": 0, \"progress\": 1.0, \"frequent_items\": {\"Samsung\": {\"frequency\": 3, \"value\": \"Samsung\"}, \"Nokia\": {\"frequency\": 1, \"value\": \"Nokia\"}, \"Xiaomi\": {\"frequency\": 4, \"value\": \"Xiaomi\"}, \"Doogee\": {\"frequency\": 1, \"value\": \"Doogee\"}, \"Iphone\": {\"frequency\": 3, \"value\": \"Iphone\"}, \"Asus\": {\"frequency\": 1, \"value\": \"Asus\"}, \"SONY\": {\"frequency\": 1, \"value\": \"SONY\"}, \"Honor\": {\"frequency\": 2, \"value\": \"Honor\"}}, \"size\": 16}, \"RAM\": {\"std\": 7.7145793793310595, \"complete\": true, \"min\": 0.512, \"max\": 32.0, \"quantile\": [0.512, 0.512, 0.512, 0.512, 0.512, 0.512, 0.512, 1.0, 1.0, 1.0, 1.0, 1.0, 1.0, 1.0, 1.0, 1.0, 1.0, 1.0, 1.0, 1.0, 1.0, 1.0, 1.0, 1.0, 1.0, 2.0, 2.0, 2.0, 2.0, 2.0, 2.0, 2.0, 3.0, 3.0, 3.0, 3.0, 3.0, 3.0, 3.0, 3.0, 3.0, 3.0, 3.0, 3.0, 3.0, 3.0, 3.0, 3.0, 3.0, 3.0, 3.0, 3.0, 3.0, 3.0, 3.0, 3.0, 3.0, 3.0, 3.0, 3.0, 3.0, 3.0, 3.0, 4.0, 4.0, 4.0, 4.0, 4.0, 4.0, 4.0, 4.0, 4.0, 4.0, 4.0, 4.0, 6.0, 6.0, 6.0, 6.0, 6.0, 6.0, 6.0, 8.0, 8.0, 8.0, 8.0, 8.0, 8.0, 16.0, 16.0, 16.0, 16.0, 16.0, 16.0, 32.0, 32.0, 32.0, 32.0, 32.0, 32.0, 32.0], \"median\": 3.0, \"numeric\": true, \"num_unique\": 9, \"num_undefined\": 0, \"var\": 59.514735, \"progress\": 1.0, \"size\": 16, \"frequent_items\": {\"32.0\": {\"frequency\": 1, \"value\": 32.0}, \"1.0\": {\"frequency\": 3, \"value\": 1.0}, \"2.0\": {\"frequency\": 1, \"value\": 2.0}, \"3.0\": {\"frequency\": 5, \"value\": 3.0}, \"4.0\": {\"frequency\": 2, \"value\": 4.0}, \"6.0\": {\"frequency\": 1, \"value\": 6.0}, \"8.0\": {\"frequency\": 1, \"value\": 8.0}, \"0.512\": {\"frequency\": 1, \"value\": 0.512}, \"16.0\": {\"frequency\": 1, \"value\": 16.0}}, \"mean\": 5.657}, \"System\": {\"complete\": true, \"numeric\": false, \"num_unique\": 3, \"num_undefined\": 0, \"progress\": 1.0, \"frequent_items\": {\"Android\": {\"frequency\": 12, \"value\": \"Android\"}, \"IOS\": {\"frequency\": 3, \"value\": \"IOS\"}, \"Java ME\": {\"frequency\": 1, \"value\": \"Java ME\"}}, \"size\": 16}, \"Sex\": {\"complete\": true, \"numeric\": false, \"num_unique\": 2, \"num_undefined\": 0, \"progress\": 1.0, \"frequent_items\": {\"M\": {\"frequency\": 11, \"value\": \"M\"}, \"F\": {\"frequency\": 5, \"value\": \"F\"}}, \"size\": 16}, \"Time\": {\"complete\": true, \"numeric\": false, \"num_unique\": 16, \"num_undefined\": 0, \"progress\": 1.0, \"frequent_items\": {\"15.08.2019 21:03:46\": {\"frequency\": 1, \"value\": \"15.08.2019 ...\"}, \"16.08.2019 13:47:40\": {\"frequency\": 1, \"value\": \"16.08.2019 ...\"}, \"15.08.2019 20:38:23\": {\"frequency\": 1, \"value\": \"15.08.2019 ...\"}, \"15.08.2019 20:36:36\": {\"frequency\": 1, \"value\": \"15.08.2019 ...\"}, \"15.08.2019 20:40:25\": {\"frequency\": 1, \"value\": \"15.08.2019 ...\"}, \"15.08.2019 20:14:36\": {\"frequency\": 1, \"value\": \"15.08.2019 ...\"}, \"15.08.2019 20:17:45\": {\"frequency\": 1, \"value\": \"15.08.2019 ...\"}, \"15.08.2019 20:34:08\": {\"frequency\": 1, \"value\": \"15.08.2019 ...\"}, \"16.08.2019 13:47:44\": {\"frequency\": 1, \"value\": \"16.08.2019 ...\"}, \"16.08.2019 14:05:11\": {\"frequency\": 1, \"value\": \"16.08.2019 ...\"}, \"15.08.2019 20:55:35\": {\"frequency\": 1, \"value\": \"15.08.2019 ...\"}, \"16.08.2019 13:49:42\": {\"frequency\": 1, \"value\": \"16.08.2019 ...\"}, \"15.08.2019 20:34:05\": {\"frequency\": 1, \"value\": \"15.08.2019 ...\"}, \"16.08.2019 12:33:32\": {\"frequency\": 1, \"value\": \"16.08.2019 ...\"}, \"15.08.2019 20:06:36\": {\"frequency\": 1, \"value\": \"15.08.2019 ...\"}, \"15.08.2019 20:09:36\": {\"frequency\": 1, \"value\": \"15.08.2019 ...\"}}, \"size\": 16}, \"Bluetooth\": {\"complete\": true, \"numeric\": false, \"num_unique\": 1, \"num_undefined\": 0, \"progress\": 1.0, \"frequent_items\": {\"Yes\": {\"frequency\": 16, \"value\": \"Yes\"}}, \"size\": 16}, \"Price\": {\"std\": 14525.3012016963, \"complete\": true, \"min\": 3000.0, \"max\": 64000.0, \"quantile\": [3000.0, 3000.0, 3000.0, 3000.0, 3000.0, 3000.0, 3000.0, 5000.0, 5000.0, 5000.0, 5000.0, 5000.0, 5000.0, 8000.0, 8000.0, 8000.0, 8000.0, 8000.0, 8000.0, 8000.0, 8000.0, 8000.0, 8000.0, 8000.0, 8000.0, 12000.0, 12000.0, 12000.0, 12000.0, 12000.0, 12000.0, 12000.0, 13000.0, 13000.0, 13000.0, 13000.0, 13000.0, 13000.0, 13000.0, 13000.0, 13000.0, 13000.0, 13000.0, 13000.0, 14000.0, 14000.0, 14000.0, 14000.0, 14000.0, 14000.0, 14000.0, 14000.0, 14000.0, 14000.0, 14000.0, 14000.0, 14000.0, 14000.0, 14000.0, 14000.0, 14000.0, 14000.0, 14000.0, 15000.0, 15000.0, 15000.0, 15000.0, 15000.0, 15000.0, 15000.0, 15000.0, 15000.0, 15000.0, 15000.0, 15000.0, 21000.0, 21000.0, 21000.0, 21000.0, 21000.0, 21000.0, 21000.0, 30000.0, 30000.0, 30000.0, 30000.0, 30000.0, 30000.0, 37000.0, 37000.0, 37000.0, 37000.0, 37000.0, 37000.0, 64000.0, 64000.0, 64000.0, 64000.0, 64000.0, 64000.0, 64000.0], \"median\": 14000.0, \"numeric\": true, \"num_unique\": 11, \"num_undefined\": 0, \"var\": 210984375.0, \"progress\": 1.0, \"size\": 16, \"frequent_items\": {\"12000\": {\"frequency\": 1, \"value\": 12000}, \"8000\": {\"frequency\": 2, \"value\": 8000}, \"21000\": {\"frequency\": 1, \"value\": 21000}, \"5000\": {\"frequency\": 1, \"value\": 5000}, \"30000\": {\"frequency\": 1, \"value\": 30000}, \"13000\": {\"frequency\": 2, \"value\": 13000}, \"3000\": {\"frequency\": 1, \"value\": 3000}, \"64000\": {\"frequency\": 1, \"value\": 64000}, \"15000\": {\"frequency\": 2, \"value\": 15000}, \"37000\": {\"frequency\": 1, \"value\": 37000}, \"14000\": {\"frequency\": 3, \"value\": 14000}}, \"mean\": 17875.0}}, \"selected_variable\": {\"name\": [\"data\"], \"descriptives\": {\"rows\": 16, \"columns\": 10}, \"view_component\": \"Summary\", \"view_file\": \"sframe\", \"view_params\": {\"y\": \"Price\", \"x\": \"Brand\", \"columns\": [\"Time\", \"Brand\", \"Price\", \"Wi-Fi\", \"Bluetooth\", \"NFC\", \"System\", \"RAM\", \"Name\", \"Sex\"], \"view\": \"Box Whisker\"}, \"view_components\": [\"Summary\", \"Table\", \"Bar Chart\", \"BoxWhisker Plot\", \"Line Chart\", \"Scatter Plot\", \"Heat Map\", \"Plots\"], \"type\": \"SFrame\", \"columns\": [{\"dtype\": \"str\", \"name\": \"Time\"}, {\"dtype\": \"str\", \"name\": \"Brand\"}, {\"dtype\": \"int\", \"name\": \"Price\"}, {\"dtype\": \"str\", \"name\": \"Wi-Fi\"}, {\"dtype\": \"str\", \"name\": \"Bluetooth\"}, {\"dtype\": \"str\", \"name\": \"NFC\"}, {\"dtype\": \"str\", \"name\": \"System\"}, {\"dtype\": \"float\", \"name\": \"RAM\"}, {\"dtype\": \"str\", \"name\": \"Name\"}, {\"dtype\": \"str\", \"name\": \"Sex\"}], \"column_identifiers\": [\"Wi-Fi\", \"NFC\", \"Name\", \"Brand\", \"RAM\", \"System\", \"Sex\", \"Time\", \"Bluetooth\", \"Price\"]}, \"columns\": [{\"dtype\": \"str\", \"name\": \"Time\"}, {\"dtype\": \"str\", \"name\": \"Brand\"}, {\"dtype\": \"int\", \"name\": \"Price\"}, {\"dtype\": \"str\", \"name\": \"Wi-Fi\"}, {\"dtype\": \"str\", \"name\": \"Bluetooth\"}, {\"dtype\": \"str\", \"name\": \"NFC\"}, {\"dtype\": \"str\", \"name\": \"System\"}, {\"dtype\": \"float\", \"name\": \"RAM\"}, {\"dtype\": \"str\", \"name\": \"Name\"}, {\"dtype\": \"str\", \"name\": \"Sex\"}]}, e);\n",
       "                });\n",
       "            })();\n",
       "        "
      ]
     },
     "metadata": {},
     "output_type": "display_data"
    }
   ],
   "source": [
    "graphlab.canvas.set_target('ipynb')\n",
    "data.show(view='Box Whisker', x='Brand', y='Price')"
   ]
  },
  {
   "cell_type": "code",
   "execution_count": 5,
   "metadata": {
    "collapsed": true
   },
   "outputs": [],
   "source": [
    "train_data, test_data = data.random_split(.8, seed=0)"
   ]
  },
  {
   "cell_type": "code",
   "execution_count": 6,
   "metadata": {
    "collapsed": false
   },
   "outputs": [
    {
     "data": {
      "text/html": [
       "<pre>Linear regression:</pre>"
      ],
      "text/plain": [
       "Linear regression:"
      ]
     },
     "metadata": {},
     "output_type": "display_data"
    },
    {
     "data": {
      "text/html": [
       "<pre>--------------------------------------------------------</pre>"
      ],
      "text/plain": [
       "--------------------------------------------------------"
      ]
     },
     "metadata": {},
     "output_type": "display_data"
    },
    {
     "data": {
      "text/html": [
       "<pre>Number of examples          : 14</pre>"
      ],
      "text/plain": [
       "Number of examples          : 14"
      ]
     },
     "metadata": {},
     "output_type": "display_data"
    },
    {
     "data": {
      "text/html": [
       "<pre>Number of features          : 1</pre>"
      ],
      "text/plain": [
       "Number of features          : 1"
      ]
     },
     "metadata": {},
     "output_type": "display_data"
    },
    {
     "data": {
      "text/html": [
       "<pre>Number of unpacked features : 1</pre>"
      ],
      "text/plain": [
       "Number of unpacked features : 1"
      ]
     },
     "metadata": {},
     "output_type": "display_data"
    },
    {
     "data": {
      "text/html": [
       "<pre>Number of coefficients    : 8</pre>"
      ],
      "text/plain": [
       "Number of coefficients    : 8"
      ]
     },
     "metadata": {},
     "output_type": "display_data"
    },
    {
     "data": {
      "text/html": [
       "<pre>Starting Newton Method</pre>"
      ],
      "text/plain": [
       "Starting Newton Method"
      ]
     },
     "metadata": {},
     "output_type": "display_data"
    },
    {
     "data": {
      "text/html": [
       "<pre>--------------------------------------------------------</pre>"
      ],
      "text/plain": [
       "--------------------------------------------------------"
      ]
     },
     "metadata": {},
     "output_type": "display_data"
    },
    {
     "data": {
      "text/html": [
       "<pre>+-----------+----------+--------------+--------------------+---------------+</pre>"
      ],
      "text/plain": [
       "+-----------+----------+--------------+--------------------+---------------+"
      ]
     },
     "metadata": {},
     "output_type": "display_data"
    },
    {
     "data": {
      "text/html": [
       "<pre>| Iteration | Passes   | Elapsed Time | Training-max_error | Training-rmse |</pre>"
      ],
      "text/plain": [
       "| Iteration | Passes   | Elapsed Time | Training-max_error | Training-rmse |"
      ]
     },
     "metadata": {},
     "output_type": "display_data"
    },
    {
     "data": {
      "text/html": [
       "<pre>+-----------+----------+--------------+--------------------+---------------+</pre>"
      ],
      "text/plain": [
       "+-----------+----------+--------------+--------------------+---------------+"
      ]
     },
     "metadata": {},
     "output_type": "display_data"
    },
    {
     "data": {
      "text/html": [
       "<pre>| 1         | 2        | 1.000710     | 13534.521970       | 5776.706858   |</pre>"
      ],
      "text/plain": [
       "| 1         | 2        | 1.000710     | 13534.521970       | 5776.706858   |"
      ]
     },
     "metadata": {},
     "output_type": "display_data"
    },
    {
     "data": {
      "text/html": [
       "<pre>+-----------+----------+--------------+--------------------+---------------+</pre>"
      ],
      "text/plain": [
       "+-----------+----------+--------------+--------------------+---------------+"
      ]
     },
     "metadata": {},
     "output_type": "display_data"
    }
   ],
   "source": [
    "simple_model = graphlab.linear_regression.create(train_data, target='Price', features=['Brand'], validation_set=None)"
   ]
  },
  {
   "cell_type": "code",
   "execution_count": 7,
   "metadata": {
    "collapsed": false
   },
   "outputs": [
    {
     "data": {
      "text/html": [
       "<pre>SUCCESS: Optimal solution found.</pre>"
      ],
      "text/plain": [
       "SUCCESS: Optimal solution found."
      ]
     },
     "metadata": {},
     "output_type": "display_data"
    },
    {
     "data": {
      "text/html": [
       "<pre></pre>"
      ],
      "text/plain": []
     },
     "metadata": {},
     "output_type": "display_data"
    }
   ],
   "source": [
    "phone1 = data[data['Name']=='Ирина']"
   ]
  },
  {
   "cell_type": "code",
   "execution_count": 8,
   "metadata": {
    "collapsed": false
   },
   "outputs": [
    {
     "data": {
      "text/html": [
       "<div style=\"max-height:1000px;max-width:1500px;overflow:auto;\"><table frame=\"box\" rules=\"cols\">\n",
       "    <tr>\n",
       "        <th style=\"padding-left: 1em; padding-right: 1em; text-align: center\">Time</th>\n",
       "        <th style=\"padding-left: 1em; padding-right: 1em; text-align: center\">Brand</th>\n",
       "        <th style=\"padding-left: 1em; padding-right: 1em; text-align: center\">Price</th>\n",
       "        <th style=\"padding-left: 1em; padding-right: 1em; text-align: center\">Wi-Fi</th>\n",
       "        <th style=\"padding-left: 1em; padding-right: 1em; text-align: center\">Bluetooth</th>\n",
       "        <th style=\"padding-left: 1em; padding-right: 1em; text-align: center\">NFC</th>\n",
       "        <th style=\"padding-left: 1em; padding-right: 1em; text-align: center\">System</th>\n",
       "        <th style=\"padding-left: 1em; padding-right: 1em; text-align: center\">RAM</th>\n",
       "        <th style=\"padding-left: 1em; padding-right: 1em; text-align: center\">Name</th>\n",
       "        <th style=\"padding-left: 1em; padding-right: 1em; text-align: center\">Sex</th>\n",
       "    </tr>\n",
       "    <tr>\n",
       "        <td style=\"padding-left: 1em; padding-right: 1em; text-align: center; vertical-align: top\">15.08.2019 20:36:36</td>\n",
       "        <td style=\"padding-left: 1em; padding-right: 1em; text-align: center; vertical-align: top\">Honor</td>\n",
       "        <td style=\"padding-left: 1em; padding-right: 1em; text-align: center; vertical-align: top\">14000</td>\n",
       "        <td style=\"padding-left: 1em; padding-right: 1em; text-align: center; vertical-align: top\">Yes</td>\n",
       "        <td style=\"padding-left: 1em; padding-right: 1em; text-align: center; vertical-align: top\">Yes</td>\n",
       "        <td style=\"padding-left: 1em; padding-right: 1em; text-align: center; vertical-align: top\">No</td>\n",
       "        <td style=\"padding-left: 1em; padding-right: 1em; text-align: center; vertical-align: top\">Android</td>\n",
       "        <td style=\"padding-left: 1em; padding-right: 1em; text-align: center; vertical-align: top\">16.0</td>\n",
       "        <td style=\"padding-left: 1em; padding-right: 1em; text-align: center; vertical-align: top\">Ирина</td>\n",
       "        <td style=\"padding-left: 1em; padding-right: 1em; text-align: center; vertical-align: top\">F</td>\n",
       "    </tr>\n",
       "</table>\n",
       "[? rows x 10 columns]<br/>Note: Only the head of the SFrame is printed. This SFrame is lazily evaluated.<br/>You can use sf.materialize() to force materialization.\n",
       "</div>"
      ],
      "text/plain": [
       "Columns:\n",
       "\tTime\tstr\n",
       "\tBrand\tstr\n",
       "\tPrice\tint\n",
       "\tWi-Fi\tstr\n",
       "\tBluetooth\tstr\n",
       "\tNFC\tstr\n",
       "\tSystem\tstr\n",
       "\tRAM\tfloat\n",
       "\tName\tstr\n",
       "\tSex\tstr\n",
       "\n",
       "Rows: Unknown\n",
       "\n",
       "Data:\n",
       "+---------------------+-------+-------+-------+-----------+-----+---------+------+\n",
       "|         Time        | Brand | Price | Wi-Fi | Bluetooth | NFC |  System | RAM  |\n",
       "+---------------------+-------+-------+-------+-----------+-----+---------+------+\n",
       "| 15.08.2019 20:36:36 | Honor | 14000 |  Yes  |    Yes    |  No | Android | 16.0 |\n",
       "+---------------------+-------+-------+-------+-----------+-----+---------+------+\n",
       "+-------+-----+\n",
       "|  Name | Sex |\n",
       "+-------+-----+\n",
       "| Ирина |  F  |\n",
       "+-------+-----+\n",
       "[? rows x 10 columns]\n",
       "Note: Only the head of the SFrame is printed. This SFrame is lazily evaluated.\n",
       "You can use sf.materialize() to force materialization."
      ]
     },
     "execution_count": 8,
     "metadata": {},
     "output_type": "execute_result"
    }
   ],
   "source": [
    "phone1"
   ]
  },
  {
   "cell_type": "code",
   "execution_count": 9,
   "metadata": {
    "collapsed": false
   },
   "outputs": [
    {
     "data": {
      "text/plain": [
       "dtype: float\n",
       "Rows: 1\n",
       "[13993.247309948152]"
      ]
     },
     "execution_count": 9,
     "metadata": {},
     "output_type": "execute_result"
    }
   ],
   "source": [
    "simple_model.predict(phone1)"
   ]
  },
  {
   "cell_type": "code",
   "execution_count": 10,
   "metadata": {
    "collapsed": false
   },
   "outputs": [
    {
     "data": {
      "text/plain": [
       "dtype: int\n",
       "Rows: 1\n",
       "[14000L]"
      ]
     },
     "execution_count": 10,
     "metadata": {},
     "output_type": "execute_result"
    }
   ],
   "source": [
    "phone1['Price']"
   ]
  },
  {
   "cell_type": "code",
   "execution_count": 12,
   "metadata": {
    "collapsed": false
   },
   "outputs": [],
   "source": [
    "phone2 = data[data['Time']=='15.08.2019 20:55:35']"
   ]
  },
  {
   "cell_type": "code",
   "execution_count": 13,
   "metadata": {
    "collapsed": false
   },
   "outputs": [
    {
     "data": {
      "text/html": [
       "<div style=\"max-height:1000px;max-width:1500px;overflow:auto;\"><table frame=\"box\" rules=\"cols\">\n",
       "    <tr>\n",
       "        <th style=\"padding-left: 1em; padding-right: 1em; text-align: center\">Time</th>\n",
       "        <th style=\"padding-left: 1em; padding-right: 1em; text-align: center\">Brand</th>\n",
       "        <th style=\"padding-left: 1em; padding-right: 1em; text-align: center\">Price</th>\n",
       "        <th style=\"padding-left: 1em; padding-right: 1em; text-align: center\">Wi-Fi</th>\n",
       "        <th style=\"padding-left: 1em; padding-right: 1em; text-align: center\">Bluetooth</th>\n",
       "        <th style=\"padding-left: 1em; padding-right: 1em; text-align: center\">NFC</th>\n",
       "        <th style=\"padding-left: 1em; padding-right: 1em; text-align: center\">System</th>\n",
       "        <th style=\"padding-left: 1em; padding-right: 1em; text-align: center\">RAM</th>\n",
       "        <th style=\"padding-left: 1em; padding-right: 1em; text-align: center\">Name</th>\n",
       "        <th style=\"padding-left: 1em; padding-right: 1em; text-align: center\">Sex</th>\n",
       "    </tr>\n",
       "    <tr>\n",
       "        <td style=\"padding-left: 1em; padding-right: 1em; text-align: center; vertical-align: top\">15.08.2019 20:55:35</td>\n",
       "        <td style=\"padding-left: 1em; padding-right: 1em; text-align: center; vertical-align: top\">Iphone</td>\n",
       "        <td style=\"padding-left: 1em; padding-right: 1em; text-align: center; vertical-align: top\">64000</td>\n",
       "        <td style=\"padding-left: 1em; padding-right: 1em; text-align: center; vertical-align: top\">Yes</td>\n",
       "        <td style=\"padding-left: 1em; padding-right: 1em; text-align: center; vertical-align: top\">Yes</td>\n",
       "        <td style=\"padding-left: 1em; padding-right: 1em; text-align: center; vertical-align: top\">Yes</td>\n",
       "        <td style=\"padding-left: 1em; padding-right: 1em; text-align: center; vertical-align: top\">IOS</td>\n",
       "        <td style=\"padding-left: 1em; padding-right: 1em; text-align: center; vertical-align: top\">3.0</td>\n",
       "        <td style=\"padding-left: 1em; padding-right: 1em; text-align: center; vertical-align: top\">Лиза</td>\n",
       "        <td style=\"padding-left: 1em; padding-right: 1em; text-align: center; vertical-align: top\">F</td>\n",
       "    </tr>\n",
       "</table>\n",
       "[? rows x 10 columns]<br/>Note: Only the head of the SFrame is printed. This SFrame is lazily evaluated.<br/>You can use sf.materialize() to force materialization.\n",
       "</div>"
      ],
      "text/plain": [
       "Columns:\n",
       "\tTime\tstr\n",
       "\tBrand\tstr\n",
       "\tPrice\tint\n",
       "\tWi-Fi\tstr\n",
       "\tBluetooth\tstr\n",
       "\tNFC\tstr\n",
       "\tSystem\tstr\n",
       "\tRAM\tfloat\n",
       "\tName\tstr\n",
       "\tSex\tstr\n",
       "\n",
       "Rows: Unknown\n",
       "\n",
       "Data:\n",
       "+---------------------+--------+-------+-------+-----------+-----+--------+-----+\n",
       "|         Time        | Brand  | Price | Wi-Fi | Bluetooth | NFC | System | RAM |\n",
       "+---------------------+--------+-------+-------+-----------+-----+--------+-----+\n",
       "| 15.08.2019 20:55:35 | Iphone | 64000 |  Yes  |    Yes    | Yes |  IOS   | 3.0 |\n",
       "+---------------------+--------+-------+-------+-----------+-----+--------+-----+\n",
       "+------+-----+\n",
       "| Name | Sex |\n",
       "+------+-----+\n",
       "| Лиза |  F  |\n",
       "+------+-----+\n",
       "[? rows x 10 columns]\n",
       "Note: Only the head of the SFrame is printed. This SFrame is lazily evaluated.\n",
       "You can use sf.materialize() to force materialization."
      ]
     },
     "execution_count": 13,
     "metadata": {},
     "output_type": "execute_result"
    }
   ],
   "source": [
    "phone2"
   ]
  },
  {
   "cell_type": "code",
   "execution_count": 14,
   "metadata": {
    "collapsed": false
   },
   "outputs": [
    {
     "data": {
      "text/plain": [
       "dtype: float\n",
       "Rows: 1\n",
       "[50465.478029722544]"
      ]
     },
     "execution_count": 14,
     "metadata": {},
     "output_type": "execute_result"
    }
   ],
   "source": [
    "simple_model.predict(phone2)"
   ]
  },
  {
   "cell_type": "code",
   "execution_count": 15,
   "metadata": {
    "collapsed": true
   },
   "outputs": [],
   "source": [
    "phone3 = data[data['Name']=='Михаил']"
   ]
  },
  {
   "cell_type": "code",
   "execution_count": 16,
   "metadata": {
    "collapsed": false
   },
   "outputs": [
    {
     "data": {
      "text/html": [
       "<div style=\"max-height:1000px;max-width:1500px;overflow:auto;\"><table frame=\"box\" rules=\"cols\">\n",
       "    <tr>\n",
       "        <th style=\"padding-left: 1em; padding-right: 1em; text-align: center\">Time</th>\n",
       "        <th style=\"padding-left: 1em; padding-right: 1em; text-align: center\">Brand</th>\n",
       "        <th style=\"padding-left: 1em; padding-right: 1em; text-align: center\">Price</th>\n",
       "        <th style=\"padding-left: 1em; padding-right: 1em; text-align: center\">Wi-Fi</th>\n",
       "        <th style=\"padding-left: 1em; padding-right: 1em; text-align: center\">Bluetooth</th>\n",
       "        <th style=\"padding-left: 1em; padding-right: 1em; text-align: center\">NFC</th>\n",
       "        <th style=\"padding-left: 1em; padding-right: 1em; text-align: center\">System</th>\n",
       "        <th style=\"padding-left: 1em; padding-right: 1em; text-align: center\">RAM</th>\n",
       "        <th style=\"padding-left: 1em; padding-right: 1em; text-align: center\">Name</th>\n",
       "        <th style=\"padding-left: 1em; padding-right: 1em; text-align: center\">Sex</th>\n",
       "    </tr>\n",
       "    <tr>\n",
       "        <td style=\"padding-left: 1em; padding-right: 1em; text-align: center; vertical-align: top\">15.08.2019 20:34:08</td>\n",
       "        <td style=\"padding-left: 1em; padding-right: 1em; text-align: center; vertical-align: top\">Samsung</td>\n",
       "        <td style=\"padding-left: 1em; padding-right: 1em; text-align: center; vertical-align: top\">14000</td>\n",
       "        <td style=\"padding-left: 1em; padding-right: 1em; text-align: center; vertical-align: top\">Yes</td>\n",
       "        <td style=\"padding-left: 1em; padding-right: 1em; text-align: center; vertical-align: top\">Yes</td>\n",
       "        <td style=\"padding-left: 1em; padding-right: 1em; text-align: center; vertical-align: top\">Yes</td>\n",
       "        <td style=\"padding-left: 1em; padding-right: 1em; text-align: center; vertical-align: top\">Android</td>\n",
       "        <td style=\"padding-left: 1em; padding-right: 1em; text-align: center; vertical-align: top\">3.0</td>\n",
       "        <td style=\"padding-left: 1em; padding-right: 1em; text-align: center; vertical-align: top\">Михаил</td>\n",
       "        <td style=\"padding-left: 1em; padding-right: 1em; text-align: center; vertical-align: top\">M</td>\n",
       "    </tr>\n",
       "</table>\n",
       "[? rows x 10 columns]<br/>Note: Only the head of the SFrame is printed. This SFrame is lazily evaluated.<br/>You can use sf.materialize() to force materialization.\n",
       "</div>"
      ],
      "text/plain": [
       "Columns:\n",
       "\tTime\tstr\n",
       "\tBrand\tstr\n",
       "\tPrice\tint\n",
       "\tWi-Fi\tstr\n",
       "\tBluetooth\tstr\n",
       "\tNFC\tstr\n",
       "\tSystem\tstr\n",
       "\tRAM\tfloat\n",
       "\tName\tstr\n",
       "\tSex\tstr\n",
       "\n",
       "Rows: Unknown\n",
       "\n",
       "Data:\n",
       "+---------------------+---------+-------+-------+-----------+-----+---------+\n",
       "|         Time        |  Brand  | Price | Wi-Fi | Bluetooth | NFC |  System |\n",
       "+---------------------+---------+-------+-------+-----------+-----+---------+\n",
       "| 15.08.2019 20:34:08 | Samsung | 14000 |  Yes  |    Yes    | Yes | Android |\n",
       "+---------------------+---------+-------+-------+-----------+-----+---------+\n",
       "+-----+--------+-----+\n",
       "| RAM |  Name  | Sex |\n",
       "+-----+--------+-----+\n",
       "| 3.0 | Михаил |  M  |\n",
       "+-----+--------+-----+\n",
       "[? rows x 10 columns]\n",
       "Note: Only the head of the SFrame is printed. This SFrame is lazily evaluated.\n",
       "You can use sf.materialize() to force materialization."
      ]
     },
     "execution_count": 16,
     "metadata": {},
     "output_type": "execute_result"
    }
   ],
   "source": [
    "phone3"
   ]
  },
  {
   "cell_type": "code",
   "execution_count": 17,
   "metadata": {
    "collapsed": false
   },
   "outputs": [
    {
     "data": {
      "text/plain": [
       "dtype: float\n",
       "Rows: 1\n",
       "[10662.471702968098]"
      ]
     },
     "execution_count": 17,
     "metadata": {},
     "output_type": "execute_result"
    }
   ],
   "source": [
    "simple_model.predict(phone3)"
   ]
  },
  {
   "cell_type": "markdown",
   "metadata": {},
   "source": [
    "# Second Model - more features"
   ]
  },
  {
   "cell_type": "code",
   "execution_count": 18,
   "metadata": {
    "collapsed": false
   },
   "outputs": [
    {
     "data": {
      "text/html": [
       "<pre>Linear regression:</pre>"
      ],
      "text/plain": [
       "Linear regression:"
      ]
     },
     "metadata": {},
     "output_type": "display_data"
    },
    {
     "data": {
      "text/html": [
       "<pre>--------------------------------------------------------</pre>"
      ],
      "text/plain": [
       "--------------------------------------------------------"
      ]
     },
     "metadata": {},
     "output_type": "display_data"
    },
    {
     "data": {
      "text/html": [
       "<pre>Number of examples          : 14</pre>"
      ],
      "text/plain": [
       "Number of examples          : 14"
      ]
     },
     "metadata": {},
     "output_type": "display_data"
    },
    {
     "data": {
      "text/html": [
       "<pre>Number of features          : 4</pre>"
      ],
      "text/plain": [
       "Number of features          : 4"
      ]
     },
     "metadata": {},
     "output_type": "display_data"
    },
    {
     "data": {
      "text/html": [
       "<pre>Number of unpacked features : 4</pre>"
      ],
      "text/plain": [
       "Number of unpacked features : 4"
      ]
     },
     "metadata": {},
     "output_type": "display_data"
    },
    {
     "data": {
      "text/html": [
       "<pre>Number of coefficients    : 12</pre>"
      ],
      "text/plain": [
       "Number of coefficients    : 12"
      ]
     },
     "metadata": {},
     "output_type": "display_data"
    },
    {
     "data": {
      "text/html": [
       "<pre>Starting Newton Method</pre>"
      ],
      "text/plain": [
       "Starting Newton Method"
      ]
     },
     "metadata": {},
     "output_type": "display_data"
    },
    {
     "data": {
      "text/html": [
       "<pre>--------------------------------------------------------</pre>"
      ],
      "text/plain": [
       "--------------------------------------------------------"
      ]
     },
     "metadata": {},
     "output_type": "display_data"
    },
    {
     "data": {
      "text/html": [
       "<pre>+-----------+----------+--------------+--------------------+---------------+</pre>"
      ],
      "text/plain": [
       "+-----------+----------+--------------+--------------------+---------------+"
      ]
     },
     "metadata": {},
     "output_type": "display_data"
    },
    {
     "data": {
      "text/html": [
       "<pre>| Iteration | Passes   | Elapsed Time | Training-max_error | Training-rmse |</pre>"
      ],
      "text/plain": [
       "| Iteration | Passes   | Elapsed Time | Training-max_error | Training-rmse |"
      ]
     },
     "metadata": {},
     "output_type": "display_data"
    },
    {
     "data": {
      "text/html": [
       "<pre>+-----------+----------+--------------+--------------------+---------------+</pre>"
      ],
      "text/plain": [
       "+-----------+----------+--------------+--------------------+---------------+"
      ]
     },
     "metadata": {},
     "output_type": "display_data"
    },
    {
     "data": {
      "text/html": [
       "<pre>| 1         | 2        | 0.002000     | 5977.384457        | 2555.459769   |</pre>"
      ],
      "text/plain": [
       "| 1         | 2        | 0.002000     | 5977.384457        | 2555.459769   |"
      ]
     },
     "metadata": {},
     "output_type": "display_data"
    },
    {
     "data": {
      "text/html": [
       "<pre>+-----------+----------+--------------+--------------------+---------------+</pre>"
      ],
      "text/plain": [
       "+-----------+----------+--------------+--------------------+---------------+"
      ]
     },
     "metadata": {},
     "output_type": "display_data"
    },
    {
     "data": {
      "text/html": [
       "<pre>SUCCESS: Optimal solution found.</pre>"
      ],
      "text/plain": [
       "SUCCESS: Optimal solution found."
      ]
     },
     "metadata": {},
     "output_type": "display_data"
    },
    {
     "data": {
      "text/html": [
       "<pre></pre>"
      ],
      "text/plain": []
     },
     "metadata": {},
     "output_type": "display_data"
    }
   ],
   "source": [
    "adv_features = ['Brand', 'System', 'NFC', 'RAM']\n",
    "advanced_model = graphlab.linear_regression.create(train_data, target='Price', features=adv_features, validation_set=None)"
   ]
  },
  {
   "cell_type": "code",
   "execution_count": 19,
   "metadata": {
    "collapsed": false
   },
   "outputs": [
    {
     "name": "stdout",
     "output_type": "stream",
     "text": [
      "('Predicted ', dtype: float\n",
      "Rows: 1\n",
      "[10446.36422479862], 'real', dtype: int\n",
      "Rows: 1\n",
      "[14000L])\n"
     ]
    }
   ],
   "source": [
    "print('Predicted ', advanced_model.predict(phone1),'real', phone1['Price'])\n"
   ]
  },
  {
   "cell_type": "code",
   "execution_count": 20,
   "metadata": {
    "collapsed": false
   },
   "outputs": [
    {
     "name": "stdout",
     "output_type": "stream",
     "text": [
      "('Predicted ', dtype: float\n",
      "Rows: 1\n",
      "[61549.14242948496], 'real', dtype: int\n",
      "Rows: 1\n",
      "[64000L])\n"
     ]
    }
   ],
   "source": [
    "print('Predicted ', advanced_model.predict(phone2),'real', phone2['Price'])"
   ]
  },
  {
   "cell_type": "code",
   "execution_count": 21,
   "metadata": {
    "collapsed": false
   },
   "outputs": [
    {
     "name": "stdout",
     "output_type": "stream",
     "text": [
      "('Predicted ', dtype: float\n",
      "Rows: 1\n",
      "[14478.372332521576], 'real', dtype: int\n",
      "Rows: 1\n",
      "[14000L])\n"
     ]
    }
   ],
   "source": [
    "print('Predicted ', advanced_model.predict(phone3),'real', phone3['Price'])"
   ]
  },
  {
   "cell_type": "code",
   "execution_count": 23,
   "metadata": {
    "collapsed": false
   },
   "outputs": [
    {
     "data": {
      "text/plain": [
       "{'max_error': 20465.478029722544, 'rmse': 16107.835918073677}"
      ]
     },
     "execution_count": 23,
     "metadata": {},
     "output_type": "execute_result"
    }
   ],
   "source": [
    "simple_model.evaluate(test_data)"
   ]
  },
  {
   "cell_type": "code",
   "execution_count": 24,
   "metadata": {
    "collapsed": false
   },
   "outputs": [
    {
     "data": {
      "text/plain": [
       "{'max_error': 33076.3531492616, 'rmse': 25110.026977001806}"
      ]
     },
     "execution_count": 24,
     "metadata": {},
     "output_type": "execute_result"
    }
   ],
   "source": [
    "advanced_model.evaluate(test_data)"
   ]
  },
  {
   "cell_type": "code",
   "execution_count": null,
   "metadata": {
    "collapsed": true
   },
   "outputs": [],
   "source": []
  }
 ],
 "metadata": {
  "kernelspec": {
   "display_name": "Python 2",
   "language": "python",
   "name": "python2"
  },
  "language_info": {
   "codemirror_mode": {
    "name": "ipython",
    "version": 2
   },
   "file_extension": ".py",
   "mimetype": "text/x-python",
   "name": "python",
   "nbconvert_exporter": "python",
   "pygments_lexer": "ipython2",
   "version": "2.7.13"
  }
 },
 "nbformat": 4,
 "nbformat_minor": 0
}
